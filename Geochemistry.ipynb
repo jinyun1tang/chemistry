{
 "cells": [
  {
   "cell_type": "markdown",
   "id": "e276447a-fc8d-4e40-b681-1ce8f94c1c01",
   "metadata": {},
   "source": [
    "# <center> Geochemistry </center>\n",
    "Reference: Stumm and Morgan (1996), Aquatic Chemistry: Chemical Equilibria and Rates in Natural Waters\n",
    "\n",
    "# Example: pH and equilibrium composition of the monoprotic acid, boric acid B(OH)$_3$, in water.\n",
    "\n",
    "Species present in the solution: H$_3$O$^+$, OH$^-$, B(OH)$_3$, B(OH)$_4^-$.\n",
    "\n",
    "By abbreviating H$_3$O$^+$ as H$^+$, B(OH)$_3$ as HB, and B(OH)$_4^-$ as B$^-$, the chemical reactions involved in the system are: \n",
    "\n",
    "1. H$_2$O $\\leftrightarrow$ H$^+$ + OH$^-$, which has\n",
    "   $$\n",
    "   K_W=[H^+][OH^-]=10^{-14}  \\tag{1}\n",
    "   $$\n",
    "2. HB $\\leftrightarrow$ H$^+$ + B$^-$, which has\n",
    "   $$\n",
    "   K=\\frac{[\\mathrm{H}^+][\\mathrm{B}^-]}{[\\mathrm{HB}]}=7\\times10^{-10} \\tag{2}\n",
    "   $$\n",
    "   \n",
    "Assuming 5$\\times10^{-4}$ mole of HB is dissolved in 1 liter of aqueous solution, one has\n",
    "\n",
    "$$\n",
    "C=5\\times10^{-4} M=[\\mathrm{HB}]+[B^-] \\tag{3}\n",
    "$$\n",
    "\n",
    "Meanwhile, for charge balance\n",
    "\n",
    "$$\n",
    "[\\mathrm{H^+}]=[\\mathrm{B}^-]+[\\mathrm{OH}^-] \\tag{4}\n",
    "$$"
   ]
  },
  {
   "cell_type": "markdown",
   "id": "66c3fd87-8fda-4344-90ce-e7063ddd0261",
   "metadata": {},
   "source": [
    "By solving the four equations above, we can solve for the pH and all other relevant chemical species."
   ]
  },
  {
   "cell_type": "markdown",
   "id": "2fceb689-ce8b-4ce8-ba16-f410673fff19",
   "metadata": {},
   "source": []
  }
 ],
 "metadata": {
  "kernelspec": {
   "display_name": "Python 3 (ipykernel)",
   "language": "python",
   "name": "python3"
  },
  "language_info": {
   "codemirror_mode": {
    "name": "ipython",
    "version": 3
   },
   "file_extension": ".py",
   "mimetype": "text/x-python",
   "name": "python",
   "nbconvert_exporter": "python",
   "pygments_lexer": "ipython3",
   "version": "3.12.4"
  }
 },
 "nbformat": 4,
 "nbformat_minor": 5
}
